{
 "cells": [
  {
   "cell_type": "markdown",
   "id": "dff7a267",
   "metadata": {},
   "source": [
    "# US Medical Insurance Costs\n",
    "The aim of this project is to use knowledge of Python to investigate a dataset of medical insurance costs found within the supplied `insurance.csv` file"
   ]
  },
  {
   "cell_type": "code",
   "execution_count": 1,
   "id": "3608c4fe",
   "metadata": {},
   "outputs": [],
   "source": [
    "import csv"
   ]
  },
  {
   "cell_type": "markdown",
   "id": "3ad1e5a7",
   "metadata": {},
   "source": [
    "To start, any necessary and supplimentary libraries are imported:  \n",
    "The `csv` library is imported to allow for the file to be read easily into the code  \n",
    "The next step is to bring the data into Python so that we can intially inspect it, then go on to investigate it"
   ]
  },
  {
   "cell_type": "code",
   "execution_count": 2,
   "id": "32e65184",
   "metadata": {},
   "outputs": [
    {
     "name": "stdout",
     "output_type": "stream",
     "text": [
      "1338\n",
      "[{'age': '19', 'sex': 'female', 'bmi': '27.9', 'children': '0', 'smoker': 'yes', 'region': 'southwest', 'charges': '16884.924'}, {'age': '18', 'sex': 'male', 'bmi': '33.77', 'children': '1', 'smoker': 'no', 'region': 'southeast', 'charges': '1725.5523'}, {'age': '28', 'sex': 'male', 'bmi': '33', 'children': '3', 'smoker': 'no', 'region': 'southeast', 'charges': '4449.462'}, {'age': '33', 'sex': 'male', 'bmi': '22.705', 'children': '0', 'smoker': 'no', 'region': 'northwest', 'charges': '21984.47061'}, {'age': '32', 'sex': 'male', 'bmi': '28.88', 'children': '0', 'smoker': 'no', 'region': 'northwest', 'charges': '3866.8552'}, {'age': '31', 'sex': 'female', 'bmi': '25.74', 'children': '0', 'smoker': 'no', 'region': 'southeast', 'charges': '3756.6216'}, {'age': '46', 'sex': 'female', 'bmi': '33.44', 'children': '1', 'smoker': 'no', 'region': 'southeast', 'charges': '8240.5896'}, {'age': '37', 'sex': 'female', 'bmi': '27.74', 'children': '3', 'smoker': 'no', 'region': 'northwest', 'charges': '7281.5056'}, {'age': '37', 'sex': 'male', 'bmi': '29.83', 'children': '2', 'smoker': 'no', 'region': 'northeast', 'charges': '6406.4107'}, {'age': '60', 'sex': 'female', 'bmi': '25.84', 'children': '0', 'smoker': 'no', 'region': 'northwest', 'charges': '28923.13692'}]\n"
     ]
    }
   ],
   "source": [
    "with open(\"insurance.csv\", newline=\"\") as insurance_csv:\n",
    "    temp_dict = csv.DictReader(insurance_csv)\n",
    "    insurance_data = [row for row in temp_dict]\n",
    "\n",
    "print(len(insurance_data))\n",
    "print(insurance_data[:10])"
   ]
  },
  {
   "cell_type": "markdown",
   "id": "9bc9706e",
   "metadata": {},
   "source": [
    "Here the `csv.DictReader` object is used to import each row of `insurance.csv` as a dictionary where it is then added to a list \n",
    "\n",
    "This list then contains a dictionary for all 1338 patients within `insurance.csv`  \n",
    "\n",
    "From inspection we can see there were 7 columns in the `csv` file thus each patient dictionary now has 7 keys:\n",
    "* Patient age\n",
    "* Patient sex\n",
    "* Patient BMI\n",
    "* Patient number of children\n",
    "* Patient smoker status\n",
    "* Patient U.S geographical region\n",
    "* Patient yearly medical insurance cost  \n",
    "\n",
    "It can also be seen that no data is missing but that in the current state, all values are strings"
   ]
  },
  {
   "cell_type": "code",
   "execution_count": 3,
   "id": "dd6675ec",
   "metadata": {},
   "outputs": [],
   "source": [
    "age_data = [int(patient[\"age\"]) for patient in insurance_data]\n",
    "sex_data = [patient[\"sex\"] for patient in insurance_data]\n",
    "bmi_data = [float(patient[\"bmi\"]) for patient in insurance_data]\n",
    "child_data = [int(patient[\"children\"]) for patient in insurance_data]\n",
    "smoker_data = [patient[\"smoker\"] for patient in insurance_data]\n",
    "region_data = [patient[\"region\"] for patient in insurance_data]\n",
    "cost_data = [float(patient[\"charges\"]) for patient in insurance_data]"
   ]
  },
  {
   "cell_type": "markdown",
   "id": "f72bd14d",
   "metadata": {},
   "source": [
    "Using list comprehension, each variable is organised into a list and is also converted into the most suitable data type  \n",
    "From here we can easily investigate each variable "
   ]
  },
  {
   "cell_type": "code",
   "execution_count": 4,
   "id": "c1b4ea33",
   "metadata": {},
   "outputs": [],
   "source": [
    "# A function that will return a dictionary of value:frequency pairs\n",
    "def create_freq_dict(ls):\n",
    "\n",
    "    freq_dict = {} # We initialise a dictionary to have value:frequency pairs\n",
    "\n",
    "    for val in ls:\n",
    "\n",
    "        if val not in freq_dict.keys(): # We check if key exists in dictionary\n",
    "            freq_dict[val] = 1 # If not, add it and set the count to 1\n",
    "\n",
    "        else:\n",
    "            freq_dict[val] += 1 # Otherwise increase the count\n",
    "\n",
    "    return freq_dict"
   ]
  },
  {
   "cell_type": "markdown",
   "id": "85e450af",
   "metadata": {},
   "source": [
    "For ease, the `create_freq_dict` function is created to easily return a dictionary of item:frequency pairs of a given list"
   ]
  },
  {
   "cell_type": "code",
   "execution_count": 5,
   "id": "1bcece22",
   "metadata": {},
   "outputs": [
    {
     "name": "stdout",
     "output_type": "stream",
     "text": [
      "{'Min': 18, 'Max': 64, 'Mean': 39.20703}\n",
      "{'female': 662, 'male': 676}\n",
      "{'Min': 15.96, 'Max': 53.13, 'Mean': 30.6634}\n",
      "{'Min': 0, 'Max': 5, 'Mean': 1.09492}\n",
      "{'yes': 274, 'no': 1064}\n",
      "{'southwest': 325, 'southeast': 364, 'northwest': 325, 'northeast': 324}\n",
      "{'Min': 1121.8739, 'Max': 63770.42801, 'Mean': 13270.42227}\n"
     ]
    }
   ],
   "source": [
    "# Function that finds some summary statistics of a given list of data, subject to the datatype of said list\n",
    "def get_summary_stats(data):\n",
    "\n",
    "    # As there are categorical and quantitative variables, the summary statistics will be different\n",
    "    # In the case of nominal categorical data, the only valid summary statistic is the frequency of each variable\n",
    "    if type(data[0]) == str:\n",
    "\n",
    "        return create_freq_dict(data)\n",
    "\n",
    "    # With numeric data we can find more summary statistics\n",
    "    elif type(data[0]) in [int, float]:\n",
    "        return {\n",
    "            'Min' : min(data),\n",
    "            'Max' : max(data),\n",
    "            'Mean' : round(sum(data)/len(data), 5) # From inspection of the dataset, charges are given to 5 decimal places\n",
    "        }\n",
    "    return 'Error'\n",
    "\n",
    "\n",
    "age_summary = get_summary_stats(age_data)\n",
    "sex_summary = get_summary_stats(sex_data)\n",
    "bmi_summary = get_summary_stats(bmi_data)\n",
    "child_summary = get_summary_stats(child_data)\n",
    "smoker_summary = get_summary_stats(smoker_data)\n",
    "region_summary = get_summary_stats(region_data)\n",
    "cost_summary = get_summary_stats(cost_data)\n",
    "\n",
    "print(age_summary,\n",
    "      sex_summary,\n",
    "      bmi_summary,\n",
    "      child_summary,\n",
    "      smoker_summary,\n",
    "      region_summary,\n",
    "      cost_summary,\n",
    "      sep='\\n')"
   ]
  },
  {
   "cell_type": "markdown",
   "id": "856495e8",
   "metadata": {},
   "source": [
    "By using the `get_summary_stats` function, we can easily get a quick summary of each of the variables and have called it upon each variable  \n",
    "\n",
    "From the summaries we can see:\n",
    "* The average age of the patients is 39, we would expect an average of 41 if the dataset had an even distribution of ages\n",
    "* There is a nearly even split of sexes\n",
    "* The average patient in the dataset is considered overweight by BMI\n",
    "* The average patient has 1 child\n",
    "* A large majority of patients do not smoke\n",
    "* The geographical distribution of patients is mostly equal with more being from the southeast\n",
    "* From the cost data we can see that there is a huge range "
   ]
  },
  {
   "cell_type": "code",
   "execution_count": 6,
   "id": "4da9d253",
   "metadata": {},
   "outputs": [
    {
     "name": "stdout",
     "output_type": "stream",
     "text": [
      "[18, 19, 20, 21, 22, 23, 24, 25, 26, 27, 28, 29, 30, 31, 32, 33, 34, 35, 36, 37, 38, 39, 40, 41, 42, 43, 44, 45, 46, 47, 48, 49, 50, 51, 52, 53, 54, 55, 56, 57, 58, 59, 60, 61, 62, 63, 64]\n",
      "[0, 1, 2, 3, 4, 5]\n"
     ]
    }
   ],
   "source": [
    "# Function that returns unique values from a list of data\n",
    "def get_unique(data, sort=True):\n",
    "\n",
    "    uniques = [] # Create an empty list to keep the uniques\n",
    "\n",
    "    for entry in data:\n",
    "        if entry not in uniques: # Check if a given element is already in the unique list\n",
    "            uniques.append(entry)\n",
    "\n",
    "    if sort:\n",
    "        uniques = sorted(uniques) \n",
    "\n",
    "    return uniques\n",
    "\n",
    "\n",
    "unique_ages = get_unique(age_data)\n",
    "unique_child_nums = get_unique(child_data)\n",
    "\n",
    "print(unique_ages, unique_child_nums, sep='\\n')"
   ]
  },
  {
   "cell_type": "markdown",
   "id": "b0819aaa",
   "metadata": {},
   "source": [
    "Using the `get_unique` function, we can quickly see the unique values of variables  \n",
    "From this we can see that there is at least one patient for each possible value given by the ranges for age and number of children  "
   ]
  },
  {
   "cell_type": "code",
   "execution_count": 7,
   "id": "e504c0c9",
   "metadata": {},
   "outputs": [
    {
     "name": "stdout",
     "output_type": "stream",
     "text": [
      "13406.38452\n",
      "14735.41144\n",
      "12346.93738\n",
      "12417.57537\n"
     ]
    }
   ],
   "source": [
    "# A function to calculate the average charge per regional quadrant\n",
    "def get_average_region_cost(region):\n",
    "\n",
    "    if region not in ['northeast', 'southeast', 'southwest', 'northwest']:\n",
    "        return 'Please enter a proper regional quadrant e.g. southwest.'\n",
    "\n",
    "    cost_data_sub_region = [float(patient[\"charges\"]) for patient in \n",
    "                                insurance_data if patient[\"region\"] == region] # Create a subset \n",
    "    region_total = sum(cost_data_sub_region)\n",
    "\n",
    "    return round(region_total / len(cost_data_sub_region), 5)\n",
    "\n",
    "\n",
    "print(get_average_region_cost('northeast'),\n",
    "      get_average_region_cost('southeast'),\n",
    "      get_average_region_cost('southwest'),\n",
    "      get_average_region_cost('northwest'),\n",
    "      sep='\\n')"
   ]
  },
  {
   "cell_type": "markdown",
   "id": "a9eb132a",
   "metadata": {},
   "source": [
    "Here the function `get_average_region_cost` is created to calculate the average cost per given region  \n",
    "The results indicate that patients from the eastern United States pay higher yearly health insurance charges  \n",
    "Further analysis could be performed to see if the dataset contains a broad representation of ages, sex, etc. across each region"
   ]
  },
  {
   "cell_type": "code",
   "execution_count": 8,
   "id": "2049c43c",
   "metadata": {},
   "outputs": [
    {
     "name": "stdout",
     "output_type": "stream",
     "text": [
      "32050.23183\n",
      "8434.2683\n"
     ]
    }
   ],
   "source": [
    "# A function to calculate the average cost dependant on if a patient smokes\n",
    "def get_average_smoker_cost(is_smoker=True):\n",
    "\n",
    "    cost_init = 0.0\n",
    "\n",
    "    if is_smoker == False:\n",
    "        cost_data_sub_nonsmoker = [float(patient[\"charges\"]) for patient in\n",
    "                                   insurance_data if patient[\"smoker\"] == 'no']\n",
    "        non_smoker_total = sum(cost_data_sub_nonsmoker)\n",
    "\n",
    "        return round(non_smoker_total / len(cost_data_sub_nonsmoker), 5)\n",
    "\n",
    "    cost_data_sub_smoker = [float(patient[\"charges\"]) for patient in\n",
    "                                insurance_data if patient[\"smoker\"] == 'yes']\n",
    "    smoker_total = sum(cost_data_sub_smoker)\n",
    "\n",
    "    return round(smoker_total / len(cost_data_sub_smoker), 5)\n",
    "\n",
    "\n",
    "print(get_average_smoker_cost(),\n",
    "      get_average_smoker_cost(is_smoker=False),\n",
    "      sep='\\n')"
   ]
  },
  {
   "cell_type": "markdown",
   "id": "36792667",
   "metadata": {},
   "source": [
    "The function `get_average_smoker_cost` is created to calcualte the average insurance charge for a patient dependant on if they smoke\n",
    "From the results, it is suggested that the yearly charge is much higher if an individual smokes\n",
    "An interesting note is that the average smoker cost is only roughly half the cost of the patient with the highest yearly charge "
   ]
  },
  {
   "cell_type": "code",
   "execution_count": 9,
   "id": "52973f81",
   "metadata": {},
   "outputs": [
    {
     "name": "stdout",
     "output_type": "stream",
     "text": [
      "13956.75118\n",
      "12569.57884\n"
     ]
    }
   ],
   "source": [
    "def get_average_sex_cost(sex):\n",
    "\n",
    "    if sex not in ['male', 'female']:\n",
    "        return 'Please enter \"male\" or \"female\"'\n",
    "\n",
    "    cost_data_sub_sex = [float(patient['charges']) for patient in insurance_data if patient['sex'] == sex]\n",
    "    sex_total_cost = sum(cost_data_sub_sex)\n",
    "\n",
    "    return round(sex_total_cost / len(cost_data_sub_sex), 5)\n",
    "\n",
    "\n",
    "print(get_average_sex_cost('male'),\n",
    "      get_average_sex_cost('female'),\n",
    "      sep='\\n')"
   ]
  },
  {
   "cell_type": "markdown",
   "id": "bcda449c",
   "metadata": {},
   "source": [
    "The `get_average_sex_cost` function returns the average yearly charge dependant on a patients' sex\n",
    "We can see that the averages are very similar but higher for male patients"
   ]
  },
  {
   "cell_type": "markdown",
   "id": "754f1512",
   "metadata": {},
   "source": [
    "From this analysis, it is suggested that the factor that is most likely to affect a patients' yearly medical insurance cost is if the patient smokes or does not\n",
    "\n",
    "Further analysis could be done to investigate how other attributes influence a patients yearly charge such as age or BMI"
   ]
  }
 ],
 "metadata": {
  "kernelspec": {
   "display_name": "Python 3 (ipykernel)",
   "language": "python",
   "name": "python3"
  },
  "language_info": {
   "codemirror_mode": {
    "name": "ipython",
    "version": 3
   },
   "file_extension": ".py",
   "mimetype": "text/x-python",
   "name": "python",
   "nbconvert_exporter": "python",
   "pygments_lexer": "ipython3",
   "version": "3.8.16"
  }
 },
 "nbformat": 4,
 "nbformat_minor": 5
}
